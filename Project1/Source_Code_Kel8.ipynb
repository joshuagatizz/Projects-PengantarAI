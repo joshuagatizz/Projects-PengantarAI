{
  "nbformat": 4,
  "nbformat_minor": 0,
  "metadata": {
    "colab": {
      "name": "GA Kel 8.ipynb",
      "provenance": [],
      "collapsed_sections": []
    },
    "kernelspec": {
      "name": "python3",
      "display_name": "Python 3"
    },
    "language_info": {
      "name": "python"
    }
  },
  "cells": [
    {
      "cell_type": "markdown",
      "metadata": {
        "id": "xR3TPpcLgE37"
      },
      "source": [
        "h(x,y) = (x^2 * sin y^2) + (x + y)\n",
        "\n",
        "-1 ≤ x ≤ 2 dan -1 ≤ y ≤ 1"
      ]
    },
    {
      "cell_type": "code",
      "metadata": {
        "id": "gKOeK03cUZ4c"
      },
      "source": [
        "import random\n",
        "import math\n",
        "import pandas as pd"
      ],
      "execution_count": 2,
      "outputs": []
    },
    {
      "cell_type": "markdown",
      "metadata": {
        "id": "wyhUcOB_SLLJ"
      },
      "source": [
        "# Fungsi Bantuan"
      ]
    },
    {
      "cell_type": "code",
      "metadata": {
        "id": "ZwD0-5PYNaNe"
      },
      "source": [
        "# Membuat Kromosom Populasi\n",
        "\n",
        "def generatePopulation(sum_pop, bitnum) :\n",
        "    pops = []\n",
        "    for i in range (sum_pop) :\n",
        "        chromosomes = []\n",
        "        for i in range (bitnum) :\n",
        "            chromosomes.append(random.choice([0,1]))\n",
        "        pops.append(chromosomes)\n",
        "    return pops"
      ],
      "execution_count": 3,
      "outputs": []
    },
    {
      "cell_type": "code",
      "metadata": {
        "id": "C9AmQen6S8dO"
      },
      "source": [
        "# Mengubah X dan Y dari Biner menjadi Float\n",
        "\n",
        "def convert(bin_x, bitnum, ra, rb) :\n",
        "    ret = []\n",
        "    a = ra - rb\n",
        "    b = 0\n",
        "    for i in range (1, bitnum+1) :\n",
        "        b += 2 ** (i*-1)\n",
        "    c = 0\n",
        "    for i in range (len(bin_x)) :\n",
        "        temp = 0\n",
        "        c = 0\n",
        "        for j in range (bitnum) :\n",
        "            temp = (j+1)*-1\n",
        "\n",
        "            c += bin_x[i][j] * (2**temp)\n",
        "        sum = rb + ((a / b) * c)\n",
        "        ret.append(sum)\n",
        "    return ret\n"
      ],
      "execution_count": 4,
      "outputs": []
    },
    {
      "cell_type": "code",
      "metadata": {
        "id": "Cpkdm0j16Z6E"
      },
      "source": [
        "# Menggabungkan kromosom X dan Y\n",
        "\n",
        "def combineChrom(bin_x,bin_y) :\n",
        "  new_population = []\n",
        "  for i in range(len(bin_x)):\n",
        "    new_population.append(bin_x[i] + bin_y[i])\n",
        "\n",
        "  return new_population"
      ],
      "execution_count": 5,
      "outputs": []
    },
    {
      "cell_type": "code",
      "metadata": {
        "id": "CmOErdf3enL2"
      },
      "source": [
        "# Menghitung nilai fitness dari X dan Y\n",
        "\n",
        "def computeFitness(dec_x, dec_y) :\n",
        "  ret = []\n",
        "  for i in range(len(dec_x)) :\n",
        "      x = dec_x[i]\n",
        "      y = dec_y[i]\n",
        "      sum = (x**2 * math.sin(y**2)) + (x+y)\n",
        "      ret.append(sum)\n",
        "  \n",
        "  return ret"
      ],
      "execution_count": 6,
      "outputs": []
    },
    {
      "cell_type": "markdown",
      "metadata": {
        "id": "EtPyCcp5SYy-"
      },
      "source": [
        "# Seleksi Orang tua dan Crossover"
      ]
    },
    {
      "cell_type": "code",
      "metadata": {
        "id": "VWvJ-x4MHQzd"
      },
      "source": [
        "# seleksi orangtua\n",
        "\n",
        "def ParentSelRoulette(new_population,arr_fit,sum_pop):\n",
        "  sumFit = 0\n",
        "  getChance = []\n",
        "  sumChance = []\n",
        "  #Total Fitness\n",
        "  \n",
        "  for i in range(sum_pop):\n",
        "    sumFit += arr_fit[i]\n",
        "  #Normalisasi Fitness / Persentase \n",
        "  for i in range(sum_pop):\n",
        "    getChance.append(arr_fit[i] / sumFit)\n",
        "  #Total Normalisasi Fitness\n",
        "  sumFit = 0\n",
        "  for i in range(sum_pop):\n",
        "    sumFit += getChance[i]\n",
        "    sumChance.append(sumFit)\n",
        "\n",
        "  Parent = []\n",
        "  for i in range(2):\n",
        "    rand = random.uniform(0,sumFit)\n",
        "    for j in range(sum_pop):\n",
        "      if sumChance[j] > rand :\n",
        "        Parent.append(new_population[j])\n",
        "      if len(Parent) == 2:\n",
        "        return Parent[i-1],Parent[i] \n",
        "\n",
        "  return Parent[0],Parent[1]"
      ],
      "execution_count": 7,
      "outputs": []
    },
    {
      "cell_type": "code",
      "metadata": {
        "id": "QWIfiPdhg38z"
      },
      "source": [
        "#crossover\n",
        "def crossOver(Parent1,Parent2):\n",
        "  child1,child2 = [],[]\n",
        "  prob = random.random()\n",
        "  if prob < 0.9 :\n",
        "    Halfing = random.randint(0,len(Parent1)-1)\n",
        "    child1[:Halfing],child1[Halfing:] = Parent1[:Halfing],Parent2[Halfing:]\n",
        "    child2[:Halfing],child2[Halfing:] = Parent2[:Halfing],Parent1[Halfing:]\n",
        "    \n",
        "    return child1,child2 \n",
        "  \n",
        "  else :\n",
        "    return Parent1,Parent2"
      ],
      "execution_count": 8,
      "outputs": []
    },
    {
      "cell_type": "code",
      "metadata": {
        "id": "D682yUwsXuqV"
      },
      "source": [
        "# Mencari nilai fitness maksimum\n",
        "def findMaxFitness(fit_xy) :\n",
        "    max = fit_xy[0]\n",
        "    for i in range(1, len(fit_xy)-1) :\n",
        "        if fit_xy[i] > max :\n",
        "            max = fit_xy[i]\n",
        "    return max"
      ],
      "execution_count": 9,
      "outputs": []
    },
    {
      "cell_type": "code",
      "metadata": {
        "id": "rT1TGAdq9U-H"
      },
      "source": [
        "# Mencari 2 index fitness tertinggi\n",
        "def find2IdxMaxFitness(fit_xy) :\n",
        "    max1 = 0\n",
        "    max2 = -1\n",
        "    max = fit_xy[0]\n",
        "    for i in range(1, len(fit_xy)-1) :\n",
        "        if fit_xy[i] > fit_xy[max1] :\n",
        "            max1 = i\n",
        "\n",
        "    if max1 == 0 :\n",
        "        max2 = 1\n",
        "    else :\n",
        "        max2 = 0\n",
        "    for i in range(1, len(fit_xy)-1) :\n",
        "        if fit_xy[i] > fit_xy[max2] and i != max1 :\n",
        "            max2 = i\n",
        "\n",
        "    return max1,max2"
      ],
      "execution_count": 10,
      "outputs": []
    },
    {
      "cell_type": "code",
      "metadata": {
        "id": "b4wnY1tkY9eN"
      },
      "source": [
        "# Perhitungan untuk mutasi\n",
        "\n",
        "def mutation (chromosome) :\n",
        "    newChromosome = chromosome\n",
        "    rand = random.randint(1,10)\n",
        "    if rand == 1 :\n",
        "        rand2 = random.randint(0, len(chromosome) - 1)\n",
        "        if newChromosome[rand2] == 0 :\n",
        "            newChromosome[rand2] = 1\n",
        "        else :\n",
        "            newChromosome[rand2] = 0\n",
        "    return newChromosome"
      ],
      "execution_count": 11,
      "outputs": []
    },
    {
      "cell_type": "code",
      "metadata": {
        "id": "mMnDZz0ZXW_t"
      },
      "source": [
        "# Membuat generasi baru\n",
        "\n",
        "def regeneration(xy, fit_xy, sum_pop) :\n",
        "    newGen = []\n",
        "    max1, max2 = find2IdxMaxFitness(fit_xy)\n",
        "    newGen.append(xy[max1])\n",
        "    newGen.append(xy[max2])\n",
        "    for i in range ((sum_pop//2)-1) :\n",
        "        parents1,parents2 = ParentSelRoulette(xy,fit_xy,sum_pop)\n",
        "        childs1,childs2 = crossOver(parents1,parents2)\n",
        "        childs1 = mutation(childs1)\n",
        "        childs2 = mutation(childs2)\n",
        "        newGen.append(childs1)\n",
        "        newGen.append(childs2)\n",
        "    return newGen"
      ],
      "execution_count": 12,
      "outputs": []
    },
    {
      "cell_type": "code",
      "metadata": {
        "id": "zGkDW72m7Jm2"
      },
      "source": [
        "def split(chrom,check=False):\n",
        "  \n",
        "  split = len(chrom) // 2\n",
        "\n",
        "  if check == True :\n",
        "    return chrom[:split]\n",
        "  return  chrom[split:]"
      ],
      "execution_count": 13,
      "outputs": []
    },
    {
      "cell_type": "markdown",
      "metadata": {
        "id": "jx9NANnHSueJ"
      },
      "source": [
        "# Fungsi Main"
      ]
    },
    {
      "cell_type": "code",
      "metadata": {
        "id": "jAl47xLtOYgw",
        "colab": {
          "base_uri": "https://localhost:8080/"
        },
        "outputId": "f7d672a8-f765-4e0a-d89c-5a1ce4fe8a03"
      },
      "source": [
        "# Parameter umum\n",
        "sum_pop = 20\n",
        "bitnum = 3\n",
        "raX = 2\n",
        "raY = 1\n",
        "rbXY = -1\n",
        "\n",
        "# Variabel variabel penting\n",
        "\n",
        "bin_x = generatePopulation(sum_pop, bitnum)\n",
        "bin_y = generatePopulation(sum_pop, bitnum)\n",
        "dec_x = convert(bin_x, bitnum, raX, rbXY)\n",
        "dec_y = convert(bin_y, bitnum, raY, rbXY)\n",
        "fit_xy = computeFitness(dec_x, dec_y)\n",
        "\n",
        "\n",
        "# Proses\n",
        "xy = combineChrom(bin_x, bin_y)\n",
        "best_fit = []\n",
        "best_chrome = []\n",
        "best_fit.append(findMaxFitness(fit_xy))\n",
        "for i in range (50) :\n",
        "    next_xy = regeneration(xy,fit_xy, sum_pop)\n",
        "    fit_xy = []\n",
        "    next_x = []\n",
        "    next_y = []\n",
        "    for j in range (sum_pop) :\n",
        "        next_x.append(split((next_xy[j]),check=True))\n",
        "        next_y.append(split((next_xy[j])))\n",
        "    next_dec_x = convert(next_x, bitnum, raX, rbXY)\n",
        "    next_dec_y = convert(next_y, bitnum, raY, rbXY)\n",
        "    fit_xy = computeFitness(next_dec_x, next_dec_y)\n",
        "    xy = next_xy\n",
        "    a, b = find2IdxMaxFitness(fit_xy)\n",
        "    best_chrome.append(a)\n",
        "    best_fit.append(findMaxFitness(fit_xy))\n",
        "\n",
        "best_xy, temp = find2IdxMaxFitness(fit_xy)\n",
        "\n",
        "# Output solusi terbaik\n",
        "print(\"best solution : \", findMaxFitness(fit_xy))\n",
        "print(\"chromosome : \", xy[best_xy])\n",
        "print(\"x = \", next_dec_x[best_xy])\n",
        "print(\"y = \", next_dec_y[best_xy])"
      ],
      "execution_count": 15,
      "outputs": [
        {
          "output_type": "stream",
          "text": [
            "best solution :  6.365883939231586\n",
            "chromosome :  [1, 1, 1, 1, 1, 1]\n",
            "x =  2.0\n",
            "y =  1.0\n"
          ],
          "name": "stdout"
        }
      ]
    }
  ]
}