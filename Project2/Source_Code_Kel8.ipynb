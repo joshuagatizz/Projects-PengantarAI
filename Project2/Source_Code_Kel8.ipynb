{
  "nbformat": 4,
  "nbformat_minor": 0,
  "metadata": {
    "colab": {
      "name": "Fuzzy_Logic_kel_8.ipynb",
      "provenance": [],
      "collapsed_sections": []
    },
    "kernelspec": {
      "name": "python3",
      "display_name": "Python 3"
    },
    "language_info": {
      "name": "python"
    }
  },
  "cells": [
    {
      "cell_type": "markdown",
      "metadata": {
        "id": "QbwuRNL2NDNe"
      },
      "source": [
        "**Source Code Fuzzy Logic IF-43-08 Kelompok 8**\n",
        "\n",
        "Dicky Adi Naufal Farhansyah / 1301194041\n",
        "\n",
        "Joshua Erlangga Sakti / 1301190226\n",
        "\n",
        "Wahid Firgiyanto / 1301194287"
      ]
    },
    {
      "cell_type": "markdown",
      "metadata": {
        "id": "n7zeh6YZdY-Y"
      },
      "source": [
        "# Assist Functions"
      ]
    },
    {
      "cell_type": "code",
      "metadata": {
        "id": "FWgrYClsWDJy"
      },
      "source": [
        "import pandas as pd\n",
        "import matplotlib.pyplot as plt\n",
        "import xlwt"
      ],
      "execution_count": 35,
      "outputs": []
    },
    {
      "cell_type": "code",
      "metadata": {
        "id": "4siAPYNXVhMY"
      },
      "source": [
        "def elimClone(ret) :\n",
        "  new_ret = []\n",
        "  max_rendah = []\n",
        "  max_tinggi = []\n",
        "  max_sedang = []\n",
        "\n",
        "  len_ret = len(ret)\n",
        "  for i in range (len_ret) :\n",
        "    if ret[i][0] == 'rendah' and len(max_rendah) == 0 :\n",
        "      max_rendah = ret[i]\n",
        "    elif ret[i][0] == 'rendah' and len(max_rendah) != 0 :\n",
        "      if ret[i][1] > max_rendah[1] :\n",
        "        max_rendah = ret[i]\n",
        "    elif ret[i][0] == 'tinggi' and len(max_tinggi) == 0 :\n",
        "      max_tinggi = ret[i]\n",
        "    elif ret[i][0] == 'tinggi' and len(max_tinggi) != 0 :\n",
        "      if ret[i][1] > max_tinggi[1] :\n",
        "        max_tinggi = ret[i]\n",
        "    elif ret[i][0] == 'sedang' and len(max_sedang) == 0 :\n",
        "      max_sedang = ret[i]\n",
        "    elif ret[i][0] == 'sedang' and len(max_sedang) != 0 :\n",
        "      if ret[i][1] > max_sedang[1] :\n",
        "        max_sedang = ret[i]\n",
        "  if len(max_rendah) != 0 :\n",
        "    new_ret.append(max_rendah)\n",
        "  if len(max_sedang) != 0 :\n",
        "    new_ret.append(max_sedang)\n",
        "  if len(max_tinggi) != 0 :\n",
        "    new_ret.append(max_tinggi)\n",
        "  return new_ret"
      ],
      "execution_count": 36,
      "outputs": []
    },
    {
      "cell_type": "code",
      "metadata": {
        "id": "c1Lt4RVqAe37"
      },
      "source": [
        "def findTop10(data) :\n",
        "  ret = data\n",
        "  ret.sort(key= lambda x : x[0], reverse = 1)\n",
        "\n",
        "  ret = ret[:10]\n",
        "  return ret"
      ],
      "execution_count": 37,
      "outputs": []
    },
    {
      "cell_type": "markdown",
      "metadata": {
        "id": "JTsGvoPbg32w"
      },
      "source": [
        "# Visualization"
      ]
    },
    {
      "cell_type": "code",
      "metadata": {
        "colab": {
          "base_uri": "https://localhost:8080/",
          "height": 0
        },
        "id": "ljd2NYRJY73V",
        "outputId": "23b56455-fe43-424c-ea5e-546246dae77e"
      },
      "source": [
        "# plot Pelayanan\n",
        "\n",
        "y1 = [1,1,1,0,0,0,0,0,0,0]\n",
        "y2 = [0,0,0,0.33,0.66,1,1,0,0,0]\n",
        "y3 = [0,0,0,0,0,0,0,0.5,1,1]\n",
        "\n",
        "rat = [10,20,30,40,50,60,70,80,90,100]\n",
        "\n",
        "plt.plot(rat, y1, label='Buruk')\n",
        "plt.plot(rat, y2, label='Biasa')\n",
        "plt.plot(rat, y3, label='Bagus')\n",
        "plt.legend(title='Pelayanan')\n",
        "plt.show()"
      ],
      "execution_count": 38,
      "outputs": [
        {
          "output_type": "display_data",
          "data": {
            "image/png": "[encoded data removed]",
            "text/plain": [
              "<Figure size 432x288 with 1 Axes>"
            ]
          },
          "metadata": {
            "tags": [],
            "needs_background": "light"
          }
        }
      ]
    },
    {
      "cell_type": "code",
      "metadata": {
        "colab": {
          "base_uri": "https://localhost:8080/",
          "height": 0
        },
        "id": "oLb5zLJCarO6",
        "outputId": "9221aad1-007d-4bfa-a641-a66dcab238ba"
      },
      "source": [
        "# plot Makanan\n",
        "\n",
        "y1 = [1,1,1,0.5,0,0,0,0,0,0]\n",
        "y2 = [0,0,0,0.33,0.66,1,1,0,0,0]\n",
        "y3 = [0,0,0,0,0,0,0,0.33,0.66,1]\n",
        "\n",
        "rat = [1,2,3,4,5,6,7,8,9,10]\n",
        "\n",
        "plt.plot(rat, y1, label='Kurang')\n",
        "plt.plot(rat, y2, label='Cukup')\n",
        "plt.plot(rat, y3, label='Lezat')\n",
        "plt.legend(title='Makanan')\n",
        "plt.show()"
      ],
      "execution_count": 39,
      "outputs": [
        {
          "output_type": "display_data",
          "data": {
            "image/png": "[encoded data removed]",
            "text/plain": [
              "<Figure size 432x288 with 1 Axes>"
            ]
          },
          "metadata": {
            "tags": [],
            "needs_background": "light"
          }
        }
      ]
    },
    {
      "cell_type": "code",
      "metadata": {
        "colab": {
          "base_uri": "https://localhost:8080/",
          "height": 0
        },
        "id": "zXQeQJd6fAMg",
        "outputId": "28bf521f-592f-40d1-86e5-1584bfe0e723"
      },
      "source": [
        "# plot nilai kelayakan\n",
        "\n",
        "y1 = [1,1,1,1,0.5,0,0,0,0,0]\n",
        "y2 = [0,0,0,0,0.5,1,0,0,0,0]\n",
        "y3 = [0,0,0,0,0,0,0.5,1,1,1]\n",
        "\n",
        "rat = [10,20,30,40,50,60,70,80,90,100]\n",
        "\n",
        "plt.plot(rat, y1, label='Rendah')\n",
        "plt.plot(rat, y2, label='Sedang')\n",
        "plt.plot(rat, y3, label='Tinggi')\n",
        "plt.legend(title='Nilai Kelayakan')\n",
        "plt.show()"
      ],
      "execution_count": 40,
      "outputs": [
        {
          "output_type": "display_data",
          "data": {
            "image/png": "[encoded data removed]",
            "text/plain": [
              "<Figure size 432x288 with 1 Axes>"
            ]
          },
          "metadata": {
            "tags": [],
            "needs_background": "light"
          }
        }
      ]
    },
    {
      "cell_type": "markdown",
      "metadata": {
        "id": "M5e-L7Fvdxzh"
      },
      "source": [
        "# Fuzzification"
      ]
    },
    {
      "cell_type": "markdown",
      "metadata": {
        "id": "qxP5m6IcnuOR"
      },
      "source": [
        "![image.png](data:image/png;base64,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)"
      ]
    },
    {
      "cell_type": "code",
      "metadata": {
        "id": "V-9aDzgYguLG"
      },
      "source": [
        "# fungsi fuzzification untuk pelayanan\n",
        "def fuzzifyPelayanan(data) :\n",
        "  ret = []\n",
        "  n = len(data)\n",
        "  for i in range(n) :\n",
        "    ret.append(getFuzzyValuePelayanan(data[i]))\n",
        "  return ret"
      ],
      "execution_count": 41,
      "outputs": []
    },
    {
      "cell_type": "code",
      "metadata": {
        "id": "pSvKWJJQo9Ky"
      },
      "source": [
        "def getFuzzyValuePelayanan(data) :\n",
        "  ret = []\n",
        "  # kategori buruk\n",
        "  if data >= 0 and data < 40 :\n",
        "    res = []\n",
        "    res.append('buruk')\n",
        "    if data <= 30 :\n",
        "      res.append(1)\n",
        "    else :\n",
        "      sum = 1-((data-30)/10)\n",
        "      res.append(sum)\n",
        "    ret.append(res)\n",
        "\n",
        "  # kategori biasa\n",
        "  if data > 30 and data < 80 :\n",
        "    res = []\n",
        "    res.append('biasa')\n",
        "    if data < 60 :\n",
        "      sum = (data-30) / 30\n",
        "      res.append(sum)\n",
        "    elif data >= 60 and data <= 70 :\n",
        "      res.append(1)\n",
        "    else :\n",
        "      sum = 1-((data-70)/10)\n",
        "      res.append(sum)\n",
        "    ret.append(res)\n",
        "\n",
        "  # kategori bagus\n",
        "  if data > 70 and data <= 100 :\n",
        "    res = []\n",
        "    res.append('bagus')\n",
        "    if data < 90 :\n",
        "      sum = (data-70)/20\n",
        "      res.append(sum)\n",
        "    else :\n",
        "      res.append(1)\n",
        "    ret.append(res)\n",
        "\n",
        "  return ret"
      ],
      "execution_count": 42,
      "outputs": []
    },
    {
      "cell_type": "code",
      "metadata": {
        "id": "8Ym0qYVAf9Ac"
      },
      "source": [
        "# fungsi fuzzification untuk makanan\n",
        "def fuzzifyMakanan(data) :\n",
        "  ret = []\n",
        "  n = len(data)\n",
        "  for i in range(n) :\n",
        "    ret.append(getFuzzyValueMakanan(data[i]))\n",
        "  return ret"
      ],
      "execution_count": 43,
      "outputs": []
    },
    {
      "cell_type": "code",
      "metadata": {
        "id": "uj3QJ88xpEPr"
      },
      "source": [
        "def getFuzzyValueMakanan(data) :\n",
        "  ret = []\n",
        "  res = []\n",
        "  # kategori kurang\n",
        "  if data >= 0 and data < 5 :\n",
        "    res = []\n",
        "    res.append('kurang')\n",
        "    if data <= 3 :\n",
        "        res.append(1)\n",
        "    else :\n",
        "        res.append(0.5)\n",
        "    ret.append(res)\n",
        "  \n",
        "  # kategori cukup\n",
        "  if data > 3 and data < 8 :\n",
        "    res = []\n",
        "    res.append('cukup')\n",
        "    if data < 6 :\n",
        "      sum = (data-3)/3\n",
        "      res.append(sum)\n",
        "    elif data >= 6 and data <= 7 :\n",
        "      res.append(1)\n",
        "    ret.append(res)\n",
        "  \n",
        "  # kategori lezat\n",
        "  if data > 6 and data <= 10 :\n",
        "    res = []\n",
        "    res.append('lezat')\n",
        "    sum = (data-6)/4\n",
        "    if sum == 1.0 :\n",
        "      sum = int(sum)\n",
        "    res.append(sum)\n",
        "    ret.append(res)\n",
        "\n",
        "  return ret"
      ],
      "execution_count": 44,
      "outputs": []
    },
    {
      "cell_type": "markdown",
      "metadata": {
        "id": "Uz-eF4sjd6Vm"
      },
      "source": [
        "# Inference"
      ]
    },
    {
      "cell_type": "markdown",
      "metadata": {
        "id": "i3QcHjq8ZMha"
      },
      "source": [
        "![image.png](data:image/png;base64,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)"
      ]
    },
    {
      "cell_type": "code",
      "metadata": {
        "id": "KRuuEOsmK9l8"
      },
      "source": [
        "def infr(pel, mak) :\n",
        "  ret = []\n",
        "  n = len(pel)\n",
        "  for i in range(n) :\n",
        "    ret.append(getInfrValue(pel[i], mak[i]))\n",
        "  return ret"
      ],
      "execution_count": 45,
      "outputs": []
    },
    {
      "cell_type": "code",
      "metadata": {
        "id": "SHwgUS1tLtoW"
      },
      "source": [
        "def getInfrValue(pel, mak) :\n",
        "  ret = []\n",
        "  len_pel = len(pel)\n",
        "  len_mak = len(mak)\n",
        "  res = []\n",
        "  for i in range(len_pel) :\n",
        "    for j in range(len_mak) :\n",
        "      res = []\n",
        "      if pel[i][0] == 'buruk' and mak[j][0] == 'kurang' :\n",
        "        res.append('rendah')\n",
        "        res.append(min(pel[i][1], mak[j][1]))\n",
        "      elif pel[i][0] == 'buruk' and mak[j][0] == 'cukup' :\n",
        "        res.append('rendah')\n",
        "        res.append(min(pel[i][1], mak[j][1]))\n",
        "      elif pel[i][0] == 'buruk' and mak[j][0] == 'lezat' :\n",
        "        res.append('sedang')\n",
        "        res.append(min(pel[i][1], mak[j][1]))\n",
        "      elif pel[i][0] == 'biasa' and mak[j][0] == 'kurang' :\n",
        "        res.append('rendah')\n",
        "        res.append(min(pel[i][1], mak[j][1]))\n",
        "      elif pel[i][0] == 'biasa' and mak[j][0] == 'cukup' :\n",
        "        res.append('sedang')\n",
        "        res.append(min(pel[i][1], mak[j][1]))\n",
        "      elif pel[i][0] == 'biasa' and mak[j][0] == 'lezat' :\n",
        "        res.append('tinggi')\n",
        "        res.append(min(pel[i][1], mak[j][1]))\n",
        "      elif pel[i][0] == 'bagus' and mak[j][0] == 'kurang' :\n",
        "        res.append('sedang')\n",
        "        res.append(min(pel[i][1], mak[j][1]))\n",
        "      elif pel[i][0] == 'bagus' and mak[j][0] == 'cukup' :\n",
        "        res.append('tinggi')\n",
        "        res.append(min(pel[i][1], mak[j][1]))\n",
        "      else :\n",
        "        res.append('tinggi')\n",
        "        res.append(min(pel[i][1], mak[j][1]))\n",
        "      ret.append(res)\n",
        "\n",
        "  new_ret = elimClone(ret)\n",
        "  return new_ret"
      ],
      "execution_count": 46,
      "outputs": []
    },
    {
      "cell_type": "markdown",
      "metadata": {
        "id": "K4Qc9V2sd9m_"
      },
      "source": [
        "# Defuzzification"
      ]
    },
    {
      "cell_type": "markdown",
      "metadata": {
        "id": "-a04-1uAngLz"
      },
      "source": [
        "![image.png](data:image/png;base64,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)"
      ]
    },
    {
      "cell_type": "code",
      "metadata": {
        "id": "eYHA3mVwPsFE"
      },
      "source": [
        "def defuzzy(data) :\n",
        "  ret = []\n",
        "  n = len(data)\n",
        "  for i in range(n) :\n",
        "    ret.append(getDefuzzyValue(data[i]))\n",
        "  return ret"
      ],
      "execution_count": 47,
      "outputs": []
    },
    {
      "cell_type": "code",
      "metadata": {
        "id": "xC24vDTzYwrt"
      },
      "source": [
        "def getDefuzzyValue(data) :\n",
        "  list_template_rendah = [10,20,30,40,50] #50 = 0,5\n",
        "  n_rendah = 0\n",
        "  list_template_tinggi = [100,90,80,70] #70 = 0,5\n",
        "  n_tinggi = 0\n",
        "  list_template_sedang = [60]\n",
        "  n_sedang = 0\n",
        "  ada_Rendah = False\n",
        "  ada_Tinggi = False\n",
        "  ada_Sedang = False\n",
        "\n",
        "  for i in range(len(data)) :\n",
        "    if data[i][0] == 'rendah' :\n",
        "      ada_Rendah = True\n",
        "      if data[i][1] == 1 :\n",
        "        n_rendah = 4\n",
        "      else :\n",
        "        if data[i][1] > 0.5 :\n",
        "          n_rendah = 4\n",
        "        else :\n",
        "          n_rendah = 5\n",
        "    elif data[i][0] == 'sedang' :\n",
        "      ada_Sedang = True\n",
        "      n_sedang = 1\n",
        "    else :\n",
        "      ada_Tinggi = True\n",
        "      if data[i][1] == 1 :\n",
        "        n_tinggi = 2\n",
        "      else :\n",
        "        if data[i][1] > 0.5 :\n",
        "          n_tinggi = 3\n",
        "        else :\n",
        "          n_tinggi = 4\n",
        "\n",
        "    \n",
        "  # penentuan index value tinggi, sedang dan rendah\n",
        "  pos_tinggi = -1\n",
        "  pos_rendah = -1\n",
        "  pos_sedang = -1\n",
        "  if ada_Rendah == True :\n",
        "      pos_rendah = 0\n",
        "\n",
        "  if ada_Tinggi == True :\n",
        "    if len(data) == 3 :\n",
        "      pos_tinggi = 2\n",
        "    elif len(data) == 2 :\n",
        "      pos_tinggi = 1\n",
        "    else :\n",
        "      pos_tinggi = 0\n",
        "\n",
        "  if ada_Sedang == True :\n",
        "    if len(data) == 3 :\n",
        "      pos_sedang = 1\n",
        "    elif len(data) == 2 :\n",
        "      if ada_Rendah == True :\n",
        "        pos_sedang = 1\n",
        "      else :\n",
        "        pos_sedang = 0\n",
        "    else :\n",
        "      pos_sedang = 0\n",
        "\n",
        "  # center of gravity\n",
        "  atas1 = 0\n",
        "  atas2 = 0\n",
        "  atas3 = 0\n",
        "  bawah = 0\n",
        "  if pos_rendah != -1 :\n",
        "    for i in range(n_rendah) :\n",
        "      atas1 += list_template_rendah[i]\n",
        "    atas1= atas1 * data[pos_rendah][1]\n",
        "    bawah = bawah + (n_rendah * data[pos_rendah][1])\n",
        "  if pos_tinggi != -1 :\n",
        "    for i in range(n_tinggi) :\n",
        "      atas2 += list_template_tinggi[i]\n",
        "    atas2 = atas2 * data[pos_tinggi][1]\n",
        "    bawah = bawah + (n_tinggi * data[pos_tinggi][1])\n",
        "  if pos_sedang != -1 :\n",
        "    for i in range(n_sedang) :\n",
        "      atas3 += list_template_sedang[i]\n",
        "    atas3 = atas3 * data[pos_sedang][1]\n",
        "    bawah = bawah + (n_sedang * data[pos_sedang][1])\n",
        "\n",
        "  res = (atas1+atas2+atas3) / bawah\n",
        "  ret = []\n",
        "  ret.append(res)\n",
        "  return ret"
      ],
      "execution_count": 48,
      "outputs": []
    },
    {
      "cell_type": "markdown",
      "metadata": {
        "id": "g7egA2YXdffi"
      },
      "source": [
        "\n",
        "\n",
        "\n",
        "# **Main Function**"
      ]
    },
    {
      "cell_type": "code",
      "metadata": {
        "id": "3P5rHgYymfKw"
      },
      "source": [
        "# Fungsi utama Fuzzy Logic\n",
        "\n",
        "# data_pelayanan = pel\n",
        "# data_makanan = mak\n",
        "def fuzzyLogic(pel, mak) :\n",
        "  # fuzzification\n",
        "  fuzzy_pel = fuzzifyPelayanan(pel)\n",
        "  fuzzy_mak = fuzzifyMakanan(mak)\n",
        "\n",
        "  # inference\n",
        "  inf_list = infr(fuzzy_pel, fuzzy_mak)\n",
        "\n",
        "  # defuzzification\n",
        "  defuz_list = defuzzy(inf_list)\n",
        "  # append id\n",
        "  for i in range (1, 101) :\n",
        "    defuz_list[i-1].append(i)\n",
        "  \n",
        "  return defuz_list"
      ],
      "execution_count": 49,
      "outputs": []
    },
    {
      "cell_type": "code",
      "metadata": {
        "colab": {
          "base_uri": "https://localhost:8080/"
        },
        "id": "LJ798XanjlAT",
        "outputId": "9d19ecf4-1fee-41f2-dbfc-7a2b4a6332f5"
      },
      "source": [
        "# membaca file excel\n",
        "dataset = pd.read_excel('restoran.xlsx')\n",
        "\n",
        "# memisahkan kolom pelayanan dan makanan\n",
        "data_pelayanan = dataset.pelayanan\n",
        "data_makanan = dataset.makanan\n",
        "\n",
        "fuzzy_list = fuzzyLogic(data_pelayanan, data_makanan)\n",
        "fuzzy_top10 = findTop10(fuzzy_list)\n",
        "top10 = []\n",
        "for i in range(10) :\n",
        "  top10.append(fuzzy_top10[i][1])\n",
        "print(*top10, sep='\\n')"
      ],
      "execution_count": 50,
      "outputs": [
        {
          "output_type": "stream",
          "text": [
            "25\n",
            "42\n",
            "54\n",
            "16\n",
            "31\n",
            "51\n",
            "6\n",
            "20\n",
            "24\n",
            "79\n"
          ],
          "name": "stdout"
        }
      ]
    },
    {
      "cell_type": "code",
      "metadata": {
        "id": "Kva6nDktIc1I"
      },
      "source": [
        "# export ke file xls\n",
        "row = 0\n",
        "column = 0\n",
        "\n",
        "book = xlwt.Workbook(encoding='utf-8')\n",
        "sheet1 = book.add_sheet('Sheet 1')\n",
        "\n",
        "\n",
        "for item in top10 :\n",
        "  sheet1.write(row,column,item)\n",
        "  row += 1\n",
        "\n",
        "book.save('peringkat.xls')"
      ],
      "execution_count": 51,
      "outputs": []
    }
  ]
}