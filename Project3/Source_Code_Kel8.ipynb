{
  "nbformat": 4,
  "nbformat_minor": 0,
  "metadata": {
    "colab": {
      "name": "kNN kel8.ipynb",
      "provenance": []
    },
    "kernelspec": {
      "name": "python3",
      "display_name": "Python 3"
    },
    "language_info": {
      "name": "python"
    }
  },
  "cells": [
    {
      "cell_type": "markdown",
      "metadata": {
        "id": "Tyw79rQvA0ze"
      },
      "source": [
        "**Source Code kNN IF-43-08 Kelompok 8**\n",
        "\n",
        "Dicky Adi Naufal Farhansyah / 1301194041\n",
        "\n",
        "Joshua Erlangga Sakti / 1301190226\n",
        "\n",
        "Wahid Firgiyanto / 1301194287"
      ]
    },
    {
      "cell_type": "code",
      "metadata": {
        "id": "DPv8yJAWAwb6"
      },
      "source": [
        "# libraries\n",
        "import pandas as pd\n",
        "import math\n",
        "import xlwt"
      ],
      "execution_count": null,
      "outputs": []
    },
    {
      "cell_type": "markdown",
      "metadata": {
        "id": "yNQTBWpnyMXP"
      },
      "source": [
        "# Assist Functions"
      ]
    },
    {
      "cell_type": "code",
      "metadata": {
        "id": "8TdMGDulH7PY"
      },
      "source": [
        "# Euclidean distance \n",
        "def euclideanDistance(x, y) :\n",
        "  ret = float(0)\n",
        "  l = len(x)\n",
        "  for i in range(1, l) :\n",
        "    ret += math.pow((x[i]-y[i]), 2)\n",
        "  ret = math.pow(ret, 0.5)\n",
        "  return ret"
      ],
      "execution_count": null,
      "outputs": []
    },
    {
      "cell_type": "code",
      "metadata": {
        "id": "SHKMxjJ5ItAX"
      },
      "source": [
        "# Manhattan distance \n",
        "def manhattanDistance(x, y) :\n",
        "  ret = float(0)\n",
        "  l = len(x)\n",
        "  for i in range(1, l) :\n",
        "    ret += abs(x[i]-y[i])\n",
        "  return ret"
      ],
      "execution_count": null,
      "outputs": []
    },
    {
      "cell_type": "code",
      "metadata": {
        "id": "x7AqK_A-Ixto"
      },
      "source": [
        "# Minkowski distance \n",
        "def minkowskiDistance(x, y) :\n",
        "  ret = float(0)\n",
        "  l = len(x)\n",
        "  for i in range(1, l) :\n",
        "    ret += math.pow(abs(x[i]-y[i]), 1.5)\n",
        "  ret = math.pow(ret, 1/1.5)\n",
        "  return ret"
      ],
      "execution_count": null,
      "outputs": []
    },
    {
      "cell_type": "code",
      "metadata": {
        "id": "jdT79THrI36D"
      },
      "source": [
        "# Supremum distance \n",
        "def supremumDistance(x, y) :\n",
        "  ret = float(0)\n",
        "  l = len(x)\n",
        "  for i in range(1, l) :\n",
        "    ret = max(ret, abs(x[i]-y[i]))\n",
        "  return ret"
      ],
      "execution_count": null,
      "outputs": []
    },
    {
      "cell_type": "code",
      "metadata": {
        "id": "342p-FH1ZIUJ"
      },
      "source": [
        "# menambahkan id untuk list\n",
        "def tagging(x) :\n",
        "  ret = []\n",
        "  l = len(x)\n",
        "  for i in range(l) :\n",
        "    tmp = []\n",
        "    tmp.append(i)\n",
        "    tmp.append(x[i])\n",
        "    ret.append(tmp)\n",
        "  return ret"
      ],
      "execution_count": null,
      "outputs": []
    },
    {
      "cell_type": "code",
      "metadata": {
        "id": "kjfymGuwoV1b"
      },
      "source": [
        "# mengkoversikan id menjadi nama mobil pada data\n",
        "def convertID(x, data) :\n",
        "  ret = []\n",
        "  for i in range(len(x)) :\n",
        "    ret.append(data[x[i][0]][0])\n",
        "  return ret"
      ],
      "execution_count": null,
      "outputs": []
    },
    {
      "cell_type": "code",
      "metadata": {
        "id": "Mao8h9W6eiqo"
      },
      "source": [
        "# mencari top 3 dari list\n",
        "def findTop3(data) :\n",
        "  ret = data\n",
        "  ret.sort(key= lambda x : x[1])\n",
        "\n",
        "  ret = ret[:3]\n",
        "  return ret"
      ],
      "execution_count": null,
      "outputs": []
    },
    {
      "cell_type": "markdown",
      "metadata": {
        "id": "lLrhqnNwYi9m"
      },
      "source": [
        "# Main"
      ]
    },
    {
      "cell_type": "code",
      "metadata": {
        "id": "R_S1_q6uB8QW",
        "colab": {
          "base_uri": "https://localhost:8080/"
        },
        "outputId": "8031735f-dd58-43a1-ff29-269dee134762"
      },
      "source": [
        "# MAIN\n",
        "\n",
        "# membaca file excel\n",
        "dataset = pd.read_excel('mobil.xls')\n",
        "datainput = pd.read_excel('test.xls')\n",
        "\n",
        "# konversi datainput ke list\n",
        "user_input = ['none']\n",
        "user_input.append(datainput['Ukuran'][0])\n",
        "user_input.append(datainput['Kenyamanan'][0])\n",
        "user_input.append(datainput['Irit'][0])\n",
        "user_input.append(datainput['Kecepatan'][0])\n",
        "user_input.append(datainput['Harga (Ratus Juta)'][0])\n",
        "#user_input = ['none', 8, 7, 7, 7, 2]\n",
        "\n",
        "# konversi dataset ke list\n",
        "n = len(dataset['Nama Mobil'])\n",
        "data = []\n",
        "for i in range(n) :\n",
        "  data.append([dataset['Nama Mobil'][i], dataset['Ukuran'][i], dataset['Kenyamanan'][i], dataset['Irit'][i], dataset['Kecepatan'][i], dataset['Harga (Ratus Juta)'][i]])\n",
        "  \n",
        "user_input"
      ],
      "execution_count": null,
      "outputs": [
        {
          "output_type": "execute_result",
          "data": {
            "text/plain": [
              "['none', 6, 9, 6, 9, 6]"
            ]
          },
          "metadata": {
            "tags": []
          },
          "execution_count": 31
        }
      ]
    },
    {
      "cell_type": "code",
      "metadata": {
        "id": "te2AbCkGYQNp"
      },
      "source": [
        "# perhitungan jarak\n",
        "euclidean_dist = []\n",
        "for i in range(n) :\n",
        "  euclidean_dist.append(euclideanDistance(user_input, data[i]))\n",
        "euclidean_dist = tagging(euclidean_dist)\n",
        "print('euclidean\\n', *euclidean_dist, sep='\\n')\n",
        "\n",
        "manhattan_dist = []\n",
        "for i in range(n) :\n",
        "  manhattan_dist.append(manhattanDistance(user_input, data[i]))\n",
        "manhattan_dist = tagging(manhattan_dist)\n",
        "print('\\nmanhattan\\n', *manhattan_dist, sep='\\n')\n",
        "\n",
        "minkowski_dist = []\n",
        "for i in range(n) :\n",
        "  minkowski_dist.append(minkowskiDistance(user_input, data[i]))\n",
        "minkowski_dist = tagging(minkowski_dist)\n",
        "print('\\nminkowski\\n', *minkowski_dist, sep='\\n')\n",
        "\n",
        "supremum_dist = []\n",
        "for i in range(n) :\n",
        "  supremum_dist.append(supremumDistance(user_input, data[i]))\n",
        "supremum_dist = tagging(supremum_dist)\n",
        "print('\\nsupremum\\n', *supremum_dist, sep='\\n')"
      ],
      "execution_count": null,
      "outputs": []
    },
    {
      "cell_type": "code",
      "metadata": {
        "colab": {
          "base_uri": "https://localhost:8080/"
        },
        "id": "VKhlmo6osJjm",
        "outputId": "267e1222-099b-4dee-8702-61b3581c6d57"
      },
      "source": [
        "# mencari 3 nilai yang terdekat\n",
        "euclidean_top3 = findTop3(euclidean_dist)\n",
        "manhattan_top3 = findTop3(manhattan_dist)\n",
        "minkowski_top3 = findTop3(minkowski_dist)\n",
        "supremum_top3 = findTop3(supremum_dist)\n",
        "\n",
        "print('top 3 euclidean\\n', euclidean_top3)\n",
        "print('\\ntop 3 manhattan\\n', manhattan_top3)\n",
        "print('\\ntop 3 minkowski\\n', minkowski_top3)\n",
        "print('\\ntop 3 supremum\\n', supremum_top3)"
      ],
      "execution_count": null,
      "outputs": [
        {
          "output_type": "stream",
          "text": [
            "top 3 euclidean\n",
            " [[14, 1.4142135623730951], [12, 3.605551275463989], [7, 3.7416573867739413]]\n",
            "\n",
            "top 3 manhattan\n",
            " [[14, 2.0], [13, 6.5], [12, 7.0]]\n",
            "\n",
            "top 3 minkowski\n",
            " [[14, 1.5874010519681994], [12, 4.389389367205288], [13, 4.447107111127629]]\n",
            "\n",
            "top 3 supremum\n",
            " [[14, 1], [7, 2], [12, 3]]\n"
          ],
          "name": "stdout"
        }
      ]
    },
    {
      "cell_type": "code",
      "metadata": {
        "colab": {
          "base_uri": "https://localhost:8080/"
        },
        "id": "pz3Zf6gSdxFY",
        "outputId": "c92cf43f-cb66-4505-cfb9-ab95af17db6b"
      },
      "source": [
        "# mengubah id menjadi nama mobil\n",
        "out1 = convertID(euclidean_top3, data)\n",
        "out2 = convertID(manhattan_top3, data)\n",
        "out3 = convertID(minkowski_top3, data)\n",
        "out4 = convertID(supremum_top3, data)\n",
        "\n",
        "print('rekomendasi euclidean\\n', out1)\n",
        "print('\\nrekomendasi manhattan\\n', out2)\n",
        "print('\\nrekomendasi minkowski\\n', out3)\n",
        "print('\\nrekomendasi supremum\\n', out4)"
      ],
      "execution_count": null,
      "outputs": [
        {
          "output_type": "stream",
          "text": [
            "rekomendasi euclidean\n",
            " ['Toyota Corolla Altis', 'Toyota Fortuner', 'Toyota Innova']\n",
            "\n",
            "rekomendasi manhattan\n",
            " ['Toyota Corolla Altis', 'Toyota Foxy', 'Toyota Fortuner']\n",
            "\n",
            "rekomendasi minkowski\n",
            " ['Toyota Corolla Altis', 'Toyota Fortuner', 'Toyota Foxy']\n",
            "\n",
            "rekomendasi supremum\n",
            " ['Toyota Corolla Altis', 'Toyota Innova', 'Toyota Fortuner']\n"
          ],
          "name": "stdout"
        }
      ]
    },
    {
      "cell_type": "markdown",
      "metadata": {
        "id": "cCSY_Q1EqMCK"
      },
      "source": [
        "# Export"
      ]
    },
    {
      "cell_type": "code",
      "metadata": {
        "id": "UC_y2alyYZT-"
      },
      "source": [
        "# euclidean\n",
        "row = 0\n",
        "column = 0\n",
        "\n",
        "book = xlwt.Workbook(encoding='utf-8')\n",
        "sheet1 = book.add_sheet('Sheet 1')\n",
        "\n",
        "\n",
        "for item in out1 :\n",
        "  sheet1.write(row,column,item)\n",
        "  row += 1\n",
        "\n",
        "book.save('rekomendasi_euclidean.xls')"
      ],
      "execution_count": null,
      "outputs": []
    },
    {
      "cell_type": "code",
      "metadata": {
        "id": "j7AfxVRsqeRo"
      },
      "source": [
        "# manhattan\n",
        "row = 0\n",
        "column = 0\n",
        "\n",
        "book = xlwt.Workbook(encoding='utf-8')\n",
        "sheet1 = book.add_sheet('Sheet 1')\n",
        "\n",
        "\n",
        "for item in out2 :\n",
        "  sheet1.write(row,column,item)\n",
        "  row += 1\n",
        "\n",
        "book.save('rekomendasi_manhattan.xls')"
      ],
      "execution_count": null,
      "outputs": []
    },
    {
      "cell_type": "code",
      "metadata": {
        "id": "UPcERfkmqfFn"
      },
      "source": [
        "# minkowski\n",
        "row = 0\n",
        "column = 0\n",
        "\n",
        "book = xlwt.Workbook(encoding='utf-8')\n",
        "sheet1 = book.add_sheet('Sheet 1')\n",
        "\n",
        "\n",
        "for item in out3 :\n",
        "  sheet1.write(row,column,item)\n",
        "  row += 1\n",
        "\n",
        "book.save('rekomendasi_minkowski.xls')"
      ],
      "execution_count": null,
      "outputs": []
    },
    {
      "cell_type": "code",
      "metadata": {
        "id": "K1jlu1Zjqf0g"
      },
      "source": [
        " # supremum\n",
        "row = 0\n",
        "column = 0\n",
        "\n",
        "book = xlwt.Workbook(encoding='utf-8')\n",
        "sheet1 = book.add_sheet('Sheet 1')\n",
        "\n",
        "\n",
        "for item in out4 :\n",
        "  sheet1.write(row,column,item)\n",
        "  row += 1\n",
        "\n",
        "book.save('rekomendasi_supremum.xls')"
      ],
      "execution_count": null,
      "outputs": []
    }
  ]
}